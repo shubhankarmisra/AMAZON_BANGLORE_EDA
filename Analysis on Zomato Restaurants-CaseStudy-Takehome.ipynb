{
 "cells": [
  {
   "cell_type": "markdown",
   "metadata": {},
   "source": [
    "\n",
    "## Problem Statement:\n",
    "\n",
    "Restaurants from all over the world can be found here in Bengaluru. From the United States to Japan, Russia to Antarctica, you get all types of cuisines here. Delivery, Dine-out, Pubs, Bars, Drinks, Buffet, Desserts you name it and Bengaluru has it. Bengaluru is the best place for foodies. The number of restaurants is increasing day by day. Currently, it stands at approximately 12,000 restaurants. With such a high number of restaurants. This industry hasn't been saturated yet. And new restaurants are opening every day. However, it has become difficult for them to compete with already established restaurants. The key issues that continue to pose a challenge to them include high real estate costs, rising food costs, shortage of quality manpower, fragmented supply chain, and over-licensing. This Zomato data aims at analyzing the demography of the location. Most importantly it will help new restaurants in deciding their theme, menus, cuisine, cost, etc for a particular location. It also aims at finding similarities between neighborhoods of Bengaluru on the basis of food. The dataset also contains reviews for each of the restaurants which will help in finding the overall rating for the place.\n",
    "\n",
    "\n",
    "## Aim:\n",
    "\n",
    "The basic idea of analyzing the Zomato dataset is to get a fair idea about the factors affecting the establishment of different types of restaurants at different places in Bengaluru, the aggregate rating of each restaurant, Bengaluru being one such city has more than 12,000 restaurants with restaurants serving dishes from all over the world. With each day new restaurants open the industry hasn't been saturated yet and the demand is increasing day by day. In spite of increasing demand, it however has become difficult for new restaurants to compete with established restaurants. Most of them serve the same food. Bengaluru is the IT capital of India. Most of the people here are dependent mainly on the restaurant food as they don’t have time to cook for themselves.\n",
    "\n",
    "\n",
    "\n",
    "Use all the techniques which you are aware of and explore more, Try to find various factors that are hidden in the data.\n"
   ]
  },
  {
   "cell_type": "markdown",
   "metadata": {},
   "source": [
    "### DATA DICTIONARY:\n",
    "\n",
    "\n",
    "• **Restaurant Id:** Unique id of every restaurant across various cities of the world\n",
    "\n",
    "• **Restaurant Name:** Name of the restaurant\n",
    "\n",
    "• **Country Code:** Country in which restaurant is located\n",
    "\n",
    "• **City:** City in which the restaurant is located\n",
    "\n",
    "• **Address:** Address of the restaurant\n",
    "\n",
    "• **Locality:** Location in the city\n",
    "\n",
    "• **Locality Verbose:** Detailed description of the locality\n",
    "\n",
    "• **Longitude:** Longitude coordinate of the restaurant's location\n",
    "\n",
    "• **Latitude:** Latitude coordinate of the restaurant's location\n",
    "\n",
    "• **Cuisines:** Cuisines offered by the restaurant\n",
    "\n",
    "• **Average Cost for two:** Cost for two people in different currencies \n",
    "\n",
    "• **Currency:** Currency of the country\n",
    "\n",
    "• **Has Table booking:** yes/no\n",
    "\n",
    "• **Has Online delivery:** yes/ no\n",
    "\n",
    "• **Is delivering:** yes/ no\n",
    "\n",
    "• **Switch to order menu:** yes/no\n",
    "\n",
    "• **Price range:** range of price of food\n",
    "\n",
    "• **Aggregate Rating:** Average rating out of 5\n",
    "\n",
    "• **Rating color:** depending upon the average rating color\n",
    "\n",
    "• **Rating text:** text on the basis of rating of rating\n",
    "\n",
    "• **Votes:** Number of ratings cast by people\n"
   ]
  },
  {
   "cell_type": "markdown",
   "metadata": {},
   "source": [
    "### 1.Import libraries that you required and Load the data set."
   ]
  },
  {
   "cell_type": "code",
   "execution_count": 1,
   "metadata": {
    "colab": {
     "base_uri": "https://localhost:8080/",
     "height": 17
    },
    "id": "hBQoXIHPcBuE",
    "outputId": "ddce9f8c-60c1-4221-9abe-47a7a8527cd2"
   },
   "outputs": [],
   "source": [
    "import pandas as pd"
   ]
  },
  {
   "cell_type": "code",
   "execution_count": 2,
   "metadata": {
    "id": "FZLCDltiSA2F"
   },
   "outputs": [],
   "source": [
    "import numpy as np"
   ]
  },
  {
   "cell_type": "markdown",
   "metadata": {},
   "source": [
    "### 2. Check the number of rows and columns in the dataset"
   ]
  },
  {
   "cell_type": "code",
   "execution_count": 3,
   "metadata": {},
   "outputs": [
    {
     "data": {
      "text/plain": [
       "(10000, 18)"
      ]
     },
     "execution_count": 3,
     "metadata": {},
     "output_type": "execute_result"
    }
   ],
   "source": [
    "df=pd.read_csv(\"Zomoto.csv\")\n",
    "df.shape"
   ]
  },
  {
   "cell_type": "markdown",
   "metadata": {},
   "source": [
    "### 3. Check the info of the given dataset"
   ]
  },
  {
   "cell_type": "code",
   "execution_count": 4,
   "metadata": {},
   "outputs": [
    {
     "name": "stdout",
     "output_type": "stream",
     "text": [
      "<class 'pandas.core.frame.DataFrame'>\n",
      "RangeIndex: 10000 entries, 0 to 9999\n",
      "Data columns (total 18 columns):\n",
      " #   Column                       Non-Null Count  Dtype \n",
      "---  ------                       --------------  ----- \n",
      " 0   Unnamed: 0                   10000 non-null  int64 \n",
      " 1   url                          10000 non-null  object\n",
      " 2   address                      10000 non-null  object\n",
      " 3   name                         10000 non-null  object\n",
      " 4   online_order                 10000 non-null  object\n",
      " 5   book_table                   10000 non-null  object\n",
      " 6   rate                         8528 non-null   object\n",
      " 7   votes                        10000 non-null  int64 \n",
      " 8   phone                        9764 non-null   object\n",
      " 9   location                     9997 non-null   object\n",
      " 10  rest_type                    9953 non-null   object\n",
      " 11  dish_liked                   4642 non-null   object\n",
      " 12  cuisines                     9995 non-null   object\n",
      " 13  approx_cost(for two people)  9941 non-null   object\n",
      " 14  reviews_list                 10000 non-null  object\n",
      " 15  menu_item                    10000 non-null  object\n",
      " 16  listed_in(type)              10000 non-null  object\n",
      " 17  listed_in(city)              10000 non-null  object\n",
      "dtypes: int64(2), object(16)\n",
      "memory usage: 1.4+ MB\n"
     ]
    }
   ],
   "source": [
    "df.info()"
   ]
  },
  {
   "cell_type": "code",
   "execution_count": 5,
   "metadata": {},
   "outputs": [
    {
     "data": {
      "text/html": [
       "<div>\n",
       "<style scoped>\n",
       "    .dataframe tbody tr th:only-of-type {\n",
       "        vertical-align: middle;\n",
       "    }\n",
       "\n",
       "    .dataframe tbody tr th {\n",
       "        vertical-align: top;\n",
       "    }\n",
       "\n",
       "    .dataframe thead th {\n",
       "        text-align: right;\n",
       "    }\n",
       "</style>\n",
       "<table border=\"1\" class=\"dataframe\">\n",
       "  <thead>\n",
       "    <tr style=\"text-align: right;\">\n",
       "      <th></th>\n",
       "      <th>Unnamed: 0</th>\n",
       "      <th>url</th>\n",
       "      <th>address</th>\n",
       "      <th>name</th>\n",
       "      <th>online_order</th>\n",
       "      <th>book_table</th>\n",
       "      <th>rate</th>\n",
       "      <th>votes</th>\n",
       "      <th>phone</th>\n",
       "      <th>location</th>\n",
       "      <th>rest_type</th>\n",
       "      <th>dish_liked</th>\n",
       "      <th>cuisines</th>\n",
       "      <th>approx_cost(for two people)</th>\n",
       "      <th>reviews_list</th>\n",
       "      <th>menu_item</th>\n",
       "      <th>listed_in(type)</th>\n",
       "      <th>listed_in(city)</th>\n",
       "    </tr>\n",
       "  </thead>\n",
       "  <tbody>\n",
       "    <tr>\n",
       "      <th>0</th>\n",
       "      <td>14221</td>\n",
       "      <td>https://www.zomato.com/bangalore/shree-ranga-v...</td>\n",
       "      <td>366, Hosur Main Road, Attibele, Anekal Taluk, ...</td>\n",
       "      <td>Shree Ranga Vilas</td>\n",
       "      <td>No</td>\n",
       "      <td>No</td>\n",
       "      <td>3.2/5</td>\n",
       "      <td>7</td>\n",
       "      <td>080 29765044</td>\n",
       "      <td>Electronic City</td>\n",
       "      <td>Casual Dining</td>\n",
       "      <td>NaN</td>\n",
       "      <td>North Indian, South Indian, Chinese, Juices</td>\n",
       "      <td>500</td>\n",
       "      <td>[('Rated 3.0', 'RATED\\n  Typical South Indian ...</td>\n",
       "      <td>[]</td>\n",
       "      <td>Dine-out</td>\n",
       "      <td>Electronic City</td>\n",
       "    </tr>\n",
       "    <tr>\n",
       "      <th>1</th>\n",
       "      <td>43422</td>\n",
       "      <td>https://www.zomato.com/bangalore/sphyre-gatewa...</td>\n",
       "      <td>Gateway Hotel, 66, Residency Road, Bangalore</td>\n",
       "      <td>Sphyre - Gateway Hotel</td>\n",
       "      <td>No</td>\n",
       "      <td>No</td>\n",
       "      <td>3.6 /5</td>\n",
       "      <td>45</td>\n",
       "      <td>+91 9886643495\\n+91 9898780004</td>\n",
       "      <td>Residency Road</td>\n",
       "      <td>Lounge</td>\n",
       "      <td>NaN</td>\n",
       "      <td>Finger Food</td>\n",
       "      <td>1,700</td>\n",
       "      <td>[('Rated 1.0', 'RATED\\n  Expected a good night...</td>\n",
       "      <td>[]</td>\n",
       "      <td>Dine-out</td>\n",
       "      <td>MG Road</td>\n",
       "    </tr>\n",
       "    <tr>\n",
       "      <th>2</th>\n",
       "      <td>16032</td>\n",
       "      <td>https://www.zomato.com/bangalore/popular-baker...</td>\n",
       "      <td>19, BDA Complex, HSR, Bangalore</td>\n",
       "      <td>Popular Bakery</td>\n",
       "      <td>No</td>\n",
       "      <td>No</td>\n",
       "      <td>3.7/5</td>\n",
       "      <td>36</td>\n",
       "      <td>+91 8105834605\\r\\n080 25722488</td>\n",
       "      <td>HSR</td>\n",
       "      <td>Dessert Parlor, Bakery</td>\n",
       "      <td>NaN</td>\n",
       "      <td>Desserts, Bakery</td>\n",
       "      <td>600</td>\n",
       "      <td>[('Rated 5.0', \"RATED\\n  This outlet is in HSR...</td>\n",
       "      <td>[]</td>\n",
       "      <td>Delivery</td>\n",
       "      <td>HSR</td>\n",
       "    </tr>\n",
       "    <tr>\n",
       "      <th>3</th>\n",
       "      <td>51635</td>\n",
       "      <td>https://www.zomato.com/bangalore/thai-chinese-...</td>\n",
       "      <td>7, Anurhh Arcade, Hoodi Road, Kodigehalli Road...</td>\n",
       "      <td>Thai &amp; Chinese Fast Food</td>\n",
       "      <td>No</td>\n",
       "      <td>No</td>\n",
       "      <td>3.4 /5</td>\n",
       "      <td>7</td>\n",
       "      <td>+91 9206260085\\n+91 7619416923</td>\n",
       "      <td>KR Puram</td>\n",
       "      <td>Quick Bites</td>\n",
       "      <td>NaN</td>\n",
       "      <td>Chinese, Thai</td>\n",
       "      <td>400</td>\n",
       "      <td>[('Rated 5.0', 'RATED\\n  Its Looking delicious...</td>\n",
       "      <td>[]</td>\n",
       "      <td>Dine-out</td>\n",
       "      <td>Whitefield</td>\n",
       "    </tr>\n",
       "    <tr>\n",
       "      <th>4</th>\n",
       "      <td>23424</td>\n",
       "      <td>https://www.zomato.com/bangalore/grill-on-whee...</td>\n",
       "      <td>Kothanuru Main Road, Puttenahalli Road, Natara...</td>\n",
       "      <td>Grill On Wheels</td>\n",
       "      <td>No</td>\n",
       "      <td>No</td>\n",
       "      <td>NEW</td>\n",
       "      <td>0</td>\n",
       "      <td>+91 9901979901</td>\n",
       "      <td>JP Nagar</td>\n",
       "      <td>Quick Bites</td>\n",
       "      <td>NaN</td>\n",
       "      <td>North Indian, Chinese, BBQ, Arabian, Fast Food</td>\n",
       "      <td>400</td>\n",
       "      <td>[]</td>\n",
       "      <td>[]</td>\n",
       "      <td>Dine-out</td>\n",
       "      <td>JP Nagar</td>\n",
       "    </tr>\n",
       "  </tbody>\n",
       "</table>\n",
       "</div>"
      ],
      "text/plain": [
       "   Unnamed: 0                                                url  \\\n",
       "0       14221  https://www.zomato.com/bangalore/shree-ranga-v...   \n",
       "1       43422  https://www.zomato.com/bangalore/sphyre-gatewa...   \n",
       "2       16032  https://www.zomato.com/bangalore/popular-baker...   \n",
       "3       51635  https://www.zomato.com/bangalore/thai-chinese-...   \n",
       "4       23424  https://www.zomato.com/bangalore/grill-on-whee...   \n",
       "\n",
       "                                             address  \\\n",
       "0  366, Hosur Main Road, Attibele, Anekal Taluk, ...   \n",
       "1       Gateway Hotel, 66, Residency Road, Bangalore   \n",
       "2                    19, BDA Complex, HSR, Bangalore   \n",
       "3  7, Anurhh Arcade, Hoodi Road, Kodigehalli Road...   \n",
       "4  Kothanuru Main Road, Puttenahalli Road, Natara...   \n",
       "\n",
       "                       name online_order book_table    rate  votes  \\\n",
       "0         Shree Ranga Vilas           No         No   3.2/5      7   \n",
       "1    Sphyre - Gateway Hotel           No         No  3.6 /5     45   \n",
       "2            Popular Bakery           No         No   3.7/5     36   \n",
       "3  Thai & Chinese Fast Food           No         No  3.4 /5      7   \n",
       "4           Grill On Wheels           No         No     NEW      0   \n",
       "\n",
       "                            phone         location               rest_type  \\\n",
       "0                    080 29765044  Electronic City           Casual Dining   \n",
       "1  +91 9886643495\\n+91 9898780004   Residency Road                  Lounge   \n",
       "2  +91 8105834605\\r\\n080 25722488              HSR  Dessert Parlor, Bakery   \n",
       "3  +91 9206260085\\n+91 7619416923         KR Puram             Quick Bites   \n",
       "4                  +91 9901979901         JP Nagar             Quick Bites   \n",
       "\n",
       "  dish_liked                                        cuisines  \\\n",
       "0        NaN     North Indian, South Indian, Chinese, Juices   \n",
       "1        NaN                                     Finger Food   \n",
       "2        NaN                                Desserts, Bakery   \n",
       "3        NaN                                   Chinese, Thai   \n",
       "4        NaN  North Indian, Chinese, BBQ, Arabian, Fast Food   \n",
       "\n",
       "  approx_cost(for two people)  \\\n",
       "0                         500   \n",
       "1                       1,700   \n",
       "2                         600   \n",
       "3                         400   \n",
       "4                         400   \n",
       "\n",
       "                                        reviews_list menu_item  \\\n",
       "0  [('Rated 3.0', 'RATED\\n  Typical South Indian ...        []   \n",
       "1  [('Rated 1.0', 'RATED\\n  Expected a good night...        []   \n",
       "2  [('Rated 5.0', \"RATED\\n  This outlet is in HSR...        []   \n",
       "3  [('Rated 5.0', 'RATED\\n  Its Looking delicious...        []   \n",
       "4                                                 []        []   \n",
       "\n",
       "  listed_in(type)  listed_in(city)  \n",
       "0        Dine-out  Electronic City  \n",
       "1        Dine-out          MG Road  \n",
       "2        Delivery              HSR  \n",
       "3        Dine-out       Whitefield  \n",
       "4        Dine-out         JP Nagar  "
      ]
     },
     "execution_count": 5,
     "metadata": {},
     "output_type": "execute_result"
    }
   ],
   "source": [
    "df.head()"
   ]
  },
  {
   "cell_type": "markdown",
   "metadata": {
    "id": "zf0Yzl8g7h22"
   },
   "source": [
    "### 4.Which are the top 10 restaurant chains in Bangaluru?"
   ]
  },
  {
   "cell_type": "code",
   "execution_count": 6,
   "metadata": {},
   "outputs": [],
   "source": [
    "df['rate'] = df['rate'].replace({'NEW': None})\n",
    "df['rate']=df['rate'].str.replace('/5','')\n",
    "df['rate']=pd.to_numeric(df['rate'],errors='coerce')"
   ]
  },
  {
   "cell_type": "code",
   "execution_count": 7,
   "metadata": {},
   "outputs": [
    {
     "data": {
      "text/plain": [
       "<bound method IndexOpsMixin.nunique of 0       3.2\n",
       "1       3.6\n",
       "2       3.7\n",
       "3       3.4\n",
       "4       NaN\n",
       "       ... \n",
       "9995    4.9\n",
       "9996    3.3\n",
       "9997    4.4\n",
       "9998    3.8\n",
       "9999    3.7\n",
       "Name: rate, Length: 10000, dtype: float64>"
      ]
     },
     "execution_count": 7,
     "metadata": {},
     "output_type": "execute_result"
    }
   ],
   "source": [
    "df['rate'].nunique"
   ]
  },
  {
   "cell_type": "markdown",
   "metadata": {},
   "source": [
    "How many of the restuarants are above average?¶"
   ]
  },
  {
   "cell_type": "code",
   "execution_count": 20,
   "metadata": {},
   "outputs": [
    {
     "data": {
      "text/plain": [
       "39.29"
      ]
     },
     "execution_count": 20,
     "metadata": {},
     "output_type": "execute_result"
    }
   ],
   "source": [
    "count=df[(df['rate']>(df['rate'].mean()))]\n",
    "c=count.shape[0]\n",
    "s=df.shape[0]\n",
    "c*100/s"
   ]
  },
  {
   "cell_type": "code",
   "execution_count": 21,
   "metadata": {
    "colab": {
     "base_uri": "https://localhost:8080/",
     "height": 479
    },
    "id": "DCr9aR-m4sQG",
    "outputId": "f3b9f68f-6340-4655-e331-009a116ba5ad"
   },
   "outputs": [
    {
     "data": {
      "text/html": [
       "<div>\n",
       "<style scoped>\n",
       "    .dataframe tbody tr th:only-of-type {\n",
       "        vertical-align: middle;\n",
       "    }\n",
       "\n",
       "    .dataframe tbody tr th {\n",
       "        vertical-align: top;\n",
       "    }\n",
       "\n",
       "    .dataframe thead th {\n",
       "        text-align: right;\n",
       "    }\n",
       "</style>\n",
       "<table border=\"1\" class=\"dataframe\">\n",
       "  <thead>\n",
       "    <tr style=\"text-align: right;\">\n",
       "      <th></th>\n",
       "      <th>Unnamed: 0</th>\n",
       "      <th>url</th>\n",
       "      <th>address</th>\n",
       "      <th>name</th>\n",
       "      <th>online_order</th>\n",
       "      <th>book_table</th>\n",
       "      <th>rate</th>\n",
       "      <th>votes</th>\n",
       "      <th>phone</th>\n",
       "      <th>location</th>\n",
       "      <th>rest_type</th>\n",
       "      <th>dish_liked</th>\n",
       "      <th>cuisines</th>\n",
       "      <th>approx_cost(for two people)</th>\n",
       "      <th>reviews_list</th>\n",
       "      <th>menu_item</th>\n",
       "      <th>listed_in(type)</th>\n",
       "      <th>listed_in(city)</th>\n",
       "    </tr>\n",
       "  </thead>\n",
       "  <tbody>\n",
       "    <tr>\n",
       "      <th>5000</th>\n",
       "      <td>33691</td>\n",
       "      <td>https://www.zomato.com/bangalore/assi-tussi-la...</td>\n",
       "      <td>5, 6/1, Opposite, Indicash ATM, Sri Ram Temple...</td>\n",
       "      <td>Assi Tussi Lassi</td>\n",
       "      <td>Yes</td>\n",
       "      <td>No</td>\n",
       "      <td>3.6</td>\n",
       "      <td>26</td>\n",
       "      <td>+91 9066331614</td>\n",
       "      <td>Ejipura</td>\n",
       "      <td>Beverage Shop</td>\n",
       "      <td>NaN</td>\n",
       "      <td>Beverages, Fast Food, Ice Cream</td>\n",
       "      <td>200</td>\n",
       "      <td>[('Rated 5.0', 'RATED\\n  Had been there after ...</td>\n",
       "      <td>['Sweet Lassi', 'Banana Lassi', 'Strawberry La...</td>\n",
       "      <td>Desserts</td>\n",
       "      <td>Koramangala 6th Block</td>\n",
       "    </tr>\n",
       "    <tr>\n",
       "      <th>5864</th>\n",
       "      <td>11106</td>\n",
       "      <td>https://www.zomato.com/bangalore/pani-kum-chai...</td>\n",
       "      <td>Swagath Main Road, Near Garuda Mall, Jayanagar...</td>\n",
       "      <td>Pani Kum Chai</td>\n",
       "      <td>Yes</td>\n",
       "      <td>No</td>\n",
       "      <td>3.9</td>\n",
       "      <td>67</td>\n",
       "      <td>+91 9886744189\\r\\r\\n+91 9663333104</td>\n",
       "      <td>Jayanagar</td>\n",
       "      <td>Quick Bites</td>\n",
       "      <td>Chai, Lemon Tea, Chicken Roll</td>\n",
       "      <td>Fast Food</td>\n",
       "      <td>200</td>\n",
       "      <td>[('Rated 3.0', 'RATED\\n  Hi there. Hope all ha...</td>\n",
       "      <td>[]</td>\n",
       "      <td>Dine-out</td>\n",
       "      <td>BTM</td>\n",
       "    </tr>\n",
       "    <tr>\n",
       "      <th>5858</th>\n",
       "      <td>23483</td>\n",
       "      <td>https://www.zomato.com/bangalore/thalassery-re...</td>\n",
       "      <td>Ground Floor 9/1, Basavalingappa Nagar, Billek...</td>\n",
       "      <td>Thalassery Restaurant</td>\n",
       "      <td>Yes</td>\n",
       "      <td>No</td>\n",
       "      <td>NaN</td>\n",
       "      <td>0</td>\n",
       "      <td>+91 8088112788</td>\n",
       "      <td>Bannerghatta Road</td>\n",
       "      <td>Casual Dining</td>\n",
       "      <td>NaN</td>\n",
       "      <td>Seafood, Biryani, South Indian, North Indian, ...</td>\n",
       "      <td>600</td>\n",
       "      <td>[('Rated 5.0', 'RATED\\n  Best Kerala restauran...</td>\n",
       "      <td>[]</td>\n",
       "      <td>Dine-out</td>\n",
       "      <td>JP Nagar</td>\n",
       "    </tr>\n",
       "    <tr>\n",
       "      <th>5857</th>\n",
       "      <td>25456</td>\n",
       "      <td>https://www.zomato.com/bangalore/chaatimes-nag...</td>\n",
       "      <td>Next to Manyata Tech Park, Outer Ring Road, Na...</td>\n",
       "      <td>Chaatimes</td>\n",
       "      <td>Yes</td>\n",
       "      <td>No</td>\n",
       "      <td>3.6</td>\n",
       "      <td>27</td>\n",
       "      <td>+91 8884021155</td>\n",
       "      <td>Nagawara</td>\n",
       "      <td>Quick Bites</td>\n",
       "      <td>NaN</td>\n",
       "      <td>Street Food, Fast Food</td>\n",
       "      <td>200</td>\n",
       "      <td>[('Rated 4.0', 'RATED\\n  Food taste was good. ...</td>\n",
       "      <td>['Vada Pav', 'Misal Pav', 'Dahi Samosa Chaat',...</td>\n",
       "      <td>Delivery</td>\n",
       "      <td>Kammanahalli</td>\n",
       "    </tr>\n",
       "    <tr>\n",
       "      <th>5855</th>\n",
       "      <td>13951</td>\n",
       "      <td>https://www.zomato.com/bangalore/aamaravathi-b...</td>\n",
       "      <td>AECS Layout, Singasandra, Electronic City, Ban...</td>\n",
       "      <td>Aamaravathi Biryani Zone</td>\n",
       "      <td>Yes</td>\n",
       "      <td>No</td>\n",
       "      <td>NaN</td>\n",
       "      <td>0</td>\n",
       "      <td>080 41177533</td>\n",
       "      <td>Electronic City</td>\n",
       "      <td>Delivery</td>\n",
       "      <td>NaN</td>\n",
       "      <td>Biryani</td>\n",
       "      <td>300</td>\n",
       "      <td>[('Rated 5.0', 'RATED\\n  One of the best Birya...</td>\n",
       "      <td>['Veg Roti Combo', 'Veg Meal Combo', 'Egg Meal...</td>\n",
       "      <td>Delivery</td>\n",
       "      <td>Electronic City</td>\n",
       "    </tr>\n",
       "  </tbody>\n",
       "</table>\n",
       "</div>"
      ],
      "text/plain": [
       "      Unnamed: 0                                                url  \\\n",
       "5000       33691  https://www.zomato.com/bangalore/assi-tussi-la...   \n",
       "5864       11106  https://www.zomato.com/bangalore/pani-kum-chai...   \n",
       "5858       23483  https://www.zomato.com/bangalore/thalassery-re...   \n",
       "5857       25456  https://www.zomato.com/bangalore/chaatimes-nag...   \n",
       "5855       13951  https://www.zomato.com/bangalore/aamaravathi-b...   \n",
       "\n",
       "                                                address  \\\n",
       "5000  5, 6/1, Opposite, Indicash ATM, Sri Ram Temple...   \n",
       "5864  Swagath Main Road, Near Garuda Mall, Jayanagar...   \n",
       "5858  Ground Floor 9/1, Basavalingappa Nagar, Billek...   \n",
       "5857  Next to Manyata Tech Park, Outer Ring Road, Na...   \n",
       "5855  AECS Layout, Singasandra, Electronic City, Ban...   \n",
       "\n",
       "                          name online_order book_table  rate  votes  \\\n",
       "5000          Assi Tussi Lassi          Yes         No   3.6     26   \n",
       "5864             Pani Kum Chai          Yes         No   3.9     67   \n",
       "5858     Thalassery Restaurant          Yes         No   NaN      0   \n",
       "5857                 Chaatimes          Yes         No   3.6     27   \n",
       "5855  Aamaravathi Biryani Zone          Yes         No   NaN      0   \n",
       "\n",
       "                                   phone           location      rest_type  \\\n",
       "5000                      +91 9066331614            Ejipura  Beverage Shop   \n",
       "5864  +91 9886744189\\r\\r\\n+91 9663333104          Jayanagar    Quick Bites   \n",
       "5858                      +91 8088112788  Bannerghatta Road  Casual Dining   \n",
       "5857                      +91 8884021155           Nagawara    Quick Bites   \n",
       "5855                        080 41177533    Electronic City       Delivery   \n",
       "\n",
       "                         dish_liked  \\\n",
       "5000                            NaN   \n",
       "5864  Chai, Lemon Tea, Chicken Roll   \n",
       "5858                            NaN   \n",
       "5857                            NaN   \n",
       "5855                            NaN   \n",
       "\n",
       "                                               cuisines  \\\n",
       "5000                    Beverages, Fast Food, Ice Cream   \n",
       "5864                                          Fast Food   \n",
       "5858  Seafood, Biryani, South Indian, North Indian, ...   \n",
       "5857                             Street Food, Fast Food   \n",
       "5855                                            Biryani   \n",
       "\n",
       "     approx_cost(for two people)  \\\n",
       "5000                         200   \n",
       "5864                         200   \n",
       "5858                         600   \n",
       "5857                         200   \n",
       "5855                         300   \n",
       "\n",
       "                                           reviews_list  \\\n",
       "5000  [('Rated 5.0', 'RATED\\n  Had been there after ...   \n",
       "5864  [('Rated 3.0', 'RATED\\n  Hi there. Hope all ha...   \n",
       "5858  [('Rated 5.0', 'RATED\\n  Best Kerala restauran...   \n",
       "5857  [('Rated 4.0', 'RATED\\n  Food taste was good. ...   \n",
       "5855  [('Rated 5.0', 'RATED\\n  One of the best Birya...   \n",
       "\n",
       "                                              menu_item listed_in(type)  \\\n",
       "5000  ['Sweet Lassi', 'Banana Lassi', 'Strawberry La...        Desserts   \n",
       "5864                                                 []        Dine-out   \n",
       "5858                                                 []        Dine-out   \n",
       "5857  ['Vada Pav', 'Misal Pav', 'Dahi Samosa Chaat',...        Delivery   \n",
       "5855  ['Veg Roti Combo', 'Veg Meal Combo', 'Egg Meal...        Delivery   \n",
       "\n",
       "            listed_in(city)  \n",
       "5000  Koramangala 6th Block  \n",
       "5864                    BTM  \n",
       "5858               JP Nagar  \n",
       "5857           Kammanahalli  \n",
       "5855        Electronic City  "
      ]
     },
     "execution_count": 21,
     "metadata": {},
     "output_type": "execute_result"
    }
   ],
   "source": [
    "df.sort_values(by='online_order', ascending=False).head(5)"
   ]
  },
  {
   "cell_type": "markdown",
   "metadata": {
    "id": "A2g3dj_Q9Ls_"
   },
   "source": [
    "### 5.How many of the restuarants do not accept online orders?\n"
   ]
  },
  {
   "cell_type": "code",
   "execution_count": 23,
   "metadata": {
    "id": "GU4w5r1X7vKr"
   },
   "outputs": [
    {
     "data": {
      "text/plain": [
       "4057"
      ]
     },
     "execution_count": 23,
     "metadata": {},
     "output_type": "execute_result"
    }
   ],
   "source": [
    "len(df[df[\"online_order\"]=='No'])"
   ]
  },
  {
   "cell_type": "markdown",
   "metadata": {
    "id": "sOwbyVN_FSGP"
   },
   "source": [
    "### 6. Online and Offline orders restaurants percentage?"
   ]
  },
  {
   "cell_type": "code",
   "execution_count": 24,
   "metadata": {
    "id": "iItEtor-Fh2F"
   },
   "outputs": [
    {
     "data": {
      "text/plain": [
       "59.43"
      ]
     },
     "execution_count": 24,
     "metadata": {},
     "output_type": "execute_result"
    }
   ],
   "source": [
    "len(df[df[\"online_order\"]=='Yes'])*100/(len(df[df[\"online_order\"]=='Yes'])+len(df[df[\"online_order\"]=='No']))"
   ]
  },
  {
   "cell_type": "code",
   "execution_count": 25,
   "metadata": {
    "colab": {
     "base_uri": "https://localhost:8080/"
    },
    "id": "rcXuqAc-Ec_c",
    "outputId": "645cf698-55d8-4541-d458-6f850e11fcb9"
   },
   "outputs": [
    {
     "data": {
      "text/plain": [
       "40.57"
      ]
     },
     "execution_count": 25,
     "metadata": {},
     "output_type": "execute_result"
    }
   ],
   "source": [
    "len(df[df[\"online_order\"]=='No'])*100/(len(df[df[\"online_order\"]=='Yes'])+len(df[df[\"online_order\"]=='No']))"
   ]
  },
  {
   "cell_type": "markdown",
   "metadata": {
    "id": "Ru8ptuekH0dS"
   },
   "source": [
    "### 7. What is the ratio b/w restaurants that provide and do not provide table booking."
   ]
  },
  {
   "cell_type": "code",
   "execution_count": 26,
   "metadata": {
    "colab": {
     "base_uri": "https://localhost:8080/",
     "height": 265
    },
    "id": "bk7nfled0LEZ",
    "outputId": "40310e02-5017-460d-efd2-4cdf912ad8a3"
   },
   "outputs": [
    {
     "data": {
      "text/plain": [
       "array(['No', 'Yes'], dtype=object)"
      ]
     },
     "execution_count": 26,
     "metadata": {},
     "output_type": "execute_result"
    }
   ],
   "source": [
    "df[\"book_table\"].unique()"
   ]
  },
  {
   "cell_type": "code",
   "execution_count": 27,
   "metadata": {},
   "outputs": [
    {
     "data": {
      "text/plain": [
       "0.14233493260223898"
      ]
     },
     "execution_count": 27,
     "metadata": {},
     "output_type": "execute_result"
    }
   ],
   "source": [
    "len(df[df[\"book_table\"]=='Yes'])/len(df[df[\"book_table\"]=='No'])"
   ]
  },
  {
   "cell_type": "code",
   "execution_count": 28,
   "metadata": {},
   "outputs": [
    {
     "data": {
      "text/plain": [
       "0       3.2\n",
       "1       3.6\n",
       "2       3.7\n",
       "3       3.4\n",
       "4       NaN\n",
       "       ... \n",
       "9995    4.9\n",
       "9996    3.3\n",
       "9997    4.4\n",
       "9998    3.8\n",
       "9999    3.7\n",
       "Name: rate, Length: 10000, dtype: float64"
      ]
     },
     "execution_count": 28,
     "metadata": {},
     "output_type": "execute_result"
    }
   ],
   "source": [
    " df['rate']"
   ]
  },
  {
   "cell_type": "markdown",
   "metadata": {
    "id": "bKnAF9vS12Pz"
   },
   "source": [
    "### 8. Check for missing values in rating column. Drop the missing value from the column and convert the column to numeric type. e.g \"3.5/5\" convert it to 3.5."
   ]
  },
  {
   "cell_type": "markdown",
   "metadata": {},
   "source": [
    "### 9. Convert the approx_cost(for two people) in numeric type after removing the \",\""
   ]
  },
  {
   "cell_type": "code",
   "execution_count": 54,
   "metadata": {
    "id": "K5JPkpDN0QNo"
   },
   "outputs": [
    {
     "data": {
      "text/plain": [
       "array([ 500., 1700.,  600.,  400.,  350.,  200., 2600.,  300.,  700.,\n",
       "        150., 1400., 1200.,  800.,  900.,  250.,  650., 2000.,  100.,\n",
       "       2800., 1000.,  450.,  750.,  950., 1500.,  850.,  550., 1300.,\n",
       "       1650., 1100., 1600.,   nan, 2500., 2300., 2100., 2400., 3000.,\n",
       "         70., 1800., 4100., 2200., 3400., 1900., 1450.,  130.,   40.,\n",
       "       1050., 1350.,  180., 1250.,  120., 3500.,  230.,  469.,  199.,\n",
       "       6000., 4000.,   80.])"
      ]
     },
     "execution_count": 54,
     "metadata": {},
     "output_type": "execute_result"
    }
   ],
   "source": [
    "df['approx_cost(for two people)'] = df['approx_cost(for two people)'].str.replace(',', '').astype(float)\n",
    "df[\"approx_cost(for two people)\"].unique()"
   ]
  },
  {
   "cell_type": "markdown",
   "metadata": {},
   "source": [
    "### 10. Find the maximum, minimum and average \"approx_cost(for two people)\" in each  \"listed_in(city)\" for each \"listed_in(type)\"\n"
   ]
  },
  {
   "cell_type": "code",
   "execution_count": 55,
   "metadata": {},
   "outputs": [
    {
     "data": {
      "text/plain": [
       "Index(['Unnamed: 0', 'url', 'address', 'name', 'online_order', 'book_table',\n",
       "       'rate', 'votes', 'phone', 'location', 'rest_type', 'dish_liked',\n",
       "       'cuisines', 'approx_cost(for two people)', 'reviews_list', 'menu_item',\n",
       "       'listed_in(type)', 'listed_in(city)'],\n",
       "      dtype='object')"
      ]
     },
     "execution_count": 55,
     "metadata": {},
     "output_type": "execute_result"
    }
   ],
   "source": [
    "df.columns"
   ]
  },
  {
   "cell_type": "code",
   "execution_count": 56,
   "metadata": {},
   "outputs": [
    {
     "data": {
      "text/plain": [
       "<bound method Series.unique of 0             Electronic City\n",
       "1                     MG Road\n",
       "2                         HSR\n",
       "3                  Whitefield\n",
       "4                    JP Nagar\n",
       "                ...          \n",
       "9995    Koramangala 4th Block\n",
       "9996         Old Airport Road\n",
       "9997             Marathahalli\n",
       "9998    Koramangala 7th Block\n",
       "9999    Koramangala 4th Block\n",
       "Name: listed_in(city), Length: 10000, dtype: object>"
      ]
     },
     "execution_count": 56,
     "metadata": {},
     "output_type": "execute_result"
    }
   ],
   "source": [
    "df['listed_in(city)'].unique"
   ]
  },
  {
   "cell_type": "code",
   "execution_count": 57,
   "metadata": {},
   "outputs": [
    {
     "name": "stdout",
     "output_type": "stream",
     "text": [
      "<class 'pandas.core.frame.DataFrame'>\n",
      "RangeIndex: 10000 entries, 0 to 9999\n",
      "Data columns (total 18 columns):\n",
      " #   Column                       Non-Null Count  Dtype  \n",
      "---  ------                       --------------  -----  \n",
      " 0   Unnamed: 0                   10000 non-null  int64  \n",
      " 1   url                          10000 non-null  object \n",
      " 2   address                      10000 non-null  object \n",
      " 3   name                         10000 non-null  object \n",
      " 4   online_order                 10000 non-null  object \n",
      " 5   book_table                   10000 non-null  object \n",
      " 6   rate                         8528 non-null   object \n",
      " 7   votes                        10000 non-null  int64  \n",
      " 8   phone                        9764 non-null   object \n",
      " 9   location                     9997 non-null   object \n",
      " 10  rest_type                    9953 non-null   object \n",
      " 11  dish_liked                   4642 non-null   object \n",
      " 12  cuisines                     9995 non-null   object \n",
      " 13  approx_cost(for two people)  9941 non-null   float64\n",
      " 14  reviews_list                 10000 non-null  object \n",
      " 15  menu_item                    10000 non-null  object \n",
      " 16  listed_in(type)              10000 non-null  object \n",
      " 17  listed_in(city)              10000 non-null  object \n",
      "dtypes: float64(1), int64(2), object(15)\n",
      "memory usage: 1.4+ MB\n"
     ]
    }
   ],
   "source": [
    "df.info()"
   ]
  },
  {
   "cell_type": "code",
   "execution_count": 58,
   "metadata": {},
   "outputs": [],
   "source": [
    "df['approx_cost(for two people)'].fillna(df['approx_cost(for two people)'].mean(),inplace=True)"
   ]
  },
  {
   "cell_type": "code",
   "execution_count": 61,
   "metadata": {},
   "outputs": [
    {
     "data": {
      "text/html": [
       "<div>\n",
       "<style scoped>\n",
       "    .dataframe tbody tr th:only-of-type {\n",
       "        vertical-align: middle;\n",
       "    }\n",
       "\n",
       "    .dataframe tbody tr th {\n",
       "        vertical-align: top;\n",
       "    }\n",
       "\n",
       "    .dataframe thead th {\n",
       "        text-align: right;\n",
       "    }\n",
       "</style>\n",
       "<table border=\"1\" class=\"dataframe\">\n",
       "  <thead>\n",
       "    <tr style=\"text-align: right;\">\n",
       "      <th></th>\n",
       "      <th>listed_in(city)</th>\n",
       "      <th>listed_in(type)</th>\n",
       "      <th>Max Cost</th>\n",
       "      <th>Min Cost</th>\n",
       "      <th>Average Cost</th>\n",
       "    </tr>\n",
       "  </thead>\n",
       "  <tbody>\n",
       "    <tr>\n",
       "      <th>0</th>\n",
       "      <td>BTM</td>\n",
       "      <td>Buffet</td>\n",
       "      <td>1600.0</td>\n",
       "      <td>750.0</td>\n",
       "      <td>1293.750000</td>\n",
       "    </tr>\n",
       "    <tr>\n",
       "      <th>1</th>\n",
       "      <td>BTM</td>\n",
       "      <td>Cafes</td>\n",
       "      <td>900.0</td>\n",
       "      <td>150.0</td>\n",
       "      <td>575.000000</td>\n",
       "    </tr>\n",
       "    <tr>\n",
       "      <th>2</th>\n",
       "      <td>BTM</td>\n",
       "      <td>Delivery</td>\n",
       "      <td>1600.0</td>\n",
       "      <td>100.0</td>\n",
       "      <td>438.729417</td>\n",
       "    </tr>\n",
       "    <tr>\n",
       "      <th>3</th>\n",
       "      <td>BTM</td>\n",
       "      <td>Desserts</td>\n",
       "      <td>1200.0</td>\n",
       "      <td>100.0</td>\n",
       "      <td>390.476190</td>\n",
       "    </tr>\n",
       "    <tr>\n",
       "      <th>4</th>\n",
       "      <td>BTM</td>\n",
       "      <td>Dine-out</td>\n",
       "      <td>1500.0</td>\n",
       "      <td>70.0</td>\n",
       "      <td>478.832445</td>\n",
       "    </tr>\n",
       "    <tr>\n",
       "      <th>...</th>\n",
       "      <td>...</td>\n",
       "      <td>...</td>\n",
       "      <td>...</td>\n",
       "      <td>...</td>\n",
       "      <td>...</td>\n",
       "    </tr>\n",
       "    <tr>\n",
       "      <th>187</th>\n",
       "      <td>Whitefield</td>\n",
       "      <td>Delivery</td>\n",
       "      <td>2000.0</td>\n",
       "      <td>100.0</td>\n",
       "      <td>492.632649</td>\n",
       "    </tr>\n",
       "    <tr>\n",
       "      <th>188</th>\n",
       "      <td>Whitefield</td>\n",
       "      <td>Desserts</td>\n",
       "      <td>900.0</td>\n",
       "      <td>100.0</td>\n",
       "      <td>400.000000</td>\n",
       "    </tr>\n",
       "    <tr>\n",
       "      <th>189</th>\n",
       "      <td>Whitefield</td>\n",
       "      <td>Dine-out</td>\n",
       "      <td>3000.0</td>\n",
       "      <td>150.0</td>\n",
       "      <td>642.334939</td>\n",
       "    </tr>\n",
       "    <tr>\n",
       "      <th>190</th>\n",
       "      <td>Whitefield</td>\n",
       "      <td>Drinks &amp; nightlife</td>\n",
       "      <td>2400.0</td>\n",
       "      <td>1200.0</td>\n",
       "      <td>1833.333333</td>\n",
       "    </tr>\n",
       "    <tr>\n",
       "      <th>191</th>\n",
       "      <td>Whitefield</td>\n",
       "      <td>Pubs and bars</td>\n",
       "      <td>1500.0</td>\n",
       "      <td>600.0</td>\n",
       "      <td>1170.000000</td>\n",
       "    </tr>\n",
       "  </tbody>\n",
       "</table>\n",
       "<p>192 rows × 5 columns</p>\n",
       "</div>"
      ],
      "text/plain": [
       "    listed_in(city)     listed_in(type)  Max Cost  Min Cost  Average Cost\n",
       "0               BTM              Buffet    1600.0     750.0   1293.750000\n",
       "1               BTM               Cafes     900.0     150.0    575.000000\n",
       "2               BTM            Delivery    1600.0     100.0    438.729417\n",
       "3               BTM            Desserts    1200.0     100.0    390.476190\n",
       "4               BTM            Dine-out    1500.0      70.0    478.832445\n",
       "..              ...                 ...       ...       ...           ...\n",
       "187      Whitefield            Delivery    2000.0     100.0    492.632649\n",
       "188      Whitefield            Desserts     900.0     100.0    400.000000\n",
       "189      Whitefield            Dine-out    3000.0     150.0    642.334939\n",
       "190      Whitefield  Drinks & nightlife    2400.0    1200.0   1833.333333\n",
       "191      Whitefield       Pubs and bars    1500.0     600.0   1170.000000\n",
       "\n",
       "[192 rows x 5 columns]"
      ]
     },
     "execution_count": 61,
     "metadata": {},
     "output_type": "execute_result"
    }
   ],
   "source": [
    "import pandas as pd\n",
    "\n",
    "# Assuming 'df' is your DataFrame\n",
    "c = df.groupby(['listed_in(city)', 'listed_in(type)']).agg(\n",
    "    {\n",
    "        'approx_cost(for two people)': ['max', 'min', 'mean']\n",
    "    }\n",
    ")\n",
    "\n",
    "# Optional: rename the columns for clarity\n",
    "c.columns = ['Max Cost', 'Min Cost', 'Average Cost']\n",
    "\n",
    "# Reset index if needed\n",
    "c = c.reset_index()\n",
    "\n",
    "# Display the result\n",
    "c=pd.DataFrame(c)\n",
    "c"
   ]
  },
  {
   "cell_type": "markdown",
   "metadata": {
    "id": "4mIYtenI5t1t"
   },
   "source": [
    "### 11. Which are the most common restaurant type in Banglore (top 15)?"
   ]
  },
  {
   "cell_type": "code",
   "execution_count": 67,
   "metadata": {
    "colab": {
     "base_uri": "https://localhost:8080/",
     "height": 551
    },
    "id": "0WSILBal44Vu",
    "outputId": "db282dfc-130b-44da-9203-a2a7eb21ea43"
   },
   "outputs": [
    {
     "data": {
      "text/plain": [
       "rest_type\n",
       "Quick Bites            3625\n",
       "Casual Dining          2018\n",
       "Cafe                    712\n",
       "Delivery                499\n",
       "Dessert Parlor          443\n",
       "Takeaway, Delivery      442\n",
       "Bakery                  228\n",
       "Casual Dining, Bar      205\n",
       "Beverage Shop           150\n",
       "Bar                     134\n",
       "Food Court              125\n",
       "Bar, Casual Dining       93\n",
       "Sweet Shop               79\n",
       "Casual Dining, Cafe      74\n",
       "Lounge                   73\n",
       "Name: count, dtype: int64"
      ]
     },
     "execution_count": 67,
     "metadata": {},
     "output_type": "execute_result"
    }
   ],
   "source": [
    "df['rest_type'].value_counts().head(15)"
   ]
  },
  {
   "cell_type": "markdown",
   "metadata": {
    "id": "7JbOUDa8IO-W"
   },
   "source": [
    "### 12. Finding Best budget Restaurants in any given location. Create a function return_budget_resturant, the arguments to this function will be location and rest_type.The function should return a budget resturants in the given loaction. The price of a good budget resturant should be less than 400 and rating should be more than 4."
   ]
  },
  {
   "cell_type": "raw",
   "metadata": {},
   "source": [
    "input - return_budget_resturant('HSR',\"Quick Bites\")\n",
    "output - ['Asha Tiffins', 'Hotel Salam', 'The Mylapore Cafe']"
   ]
  },
  {
   "cell_type": "code",
   "execution_count": 71,
   "metadata": {},
   "outputs": [
    {
     "name": "stdout",
     "output_type": "stream",
     "text": [
      "<class 'pandas.core.frame.DataFrame'>\n",
      "RangeIndex: 10000 entries, 0 to 9999\n",
      "Data columns (total 18 columns):\n",
      " #   Column                       Non-Null Count  Dtype  \n",
      "---  ------                       --------------  -----  \n",
      " 0   Unnamed: 0                   10000 non-null  int64  \n",
      " 1   url                          10000 non-null  object \n",
      " 2   address                      10000 non-null  object \n",
      " 3   name                         10000 non-null  object \n",
      " 4   online_order                 10000 non-null  object \n",
      " 5   book_table                   10000 non-null  object \n",
      " 6   rate                         8528 non-null   object \n",
      " 7   votes                        10000 non-null  int64  \n",
      " 8   phone                        9764 non-null   object \n",
      " 9   location                     9997 non-null   object \n",
      " 10  rest_type                    9953 non-null   object \n",
      " 11  dish_liked                   4642 non-null   object \n",
      " 12  cuisines                     9995 non-null   object \n",
      " 13  approx_cost(for two people)  10000 non-null  float64\n",
      " 14  reviews_list                 10000 non-null  object \n",
      " 15  menu_item                    10000 non-null  object \n",
      " 16  listed_in(type)              10000 non-null  object \n",
      " 17  listed_in(city)              10000 non-null  object \n",
      "dtypes: float64(1), int64(2), object(15)\n",
      "memory usage: 1.4+ MB\n"
     ]
    }
   ],
   "source": [
    "df.info()"
   ]
  },
  {
   "cell_type": "code",
   "execution_count": 76,
   "metadata": {},
   "outputs": [],
   "source": [
    "# Remove '/5' from the 'rate' column and replace 'NEW' with '0'\n",
    "df['rate'] = df['rate'].str.replace('/5', '', regex=False)  # Step 1\n",
    "df['rate'] = df['rate'].replace('NEW', '0')\n",
    "df['rate'] = df['rate'].replace('-', '0')\n",
    "\n",
    "# Convert the 'rate' column to float\n",
    "df['rate'] = df['rate'].astype(float)\n"
   ]
  },
  {
   "cell_type": "code",
   "execution_count": 113,
   "metadata": {},
   "outputs": [],
   "source": [
    "def bud(location,res_type):\n",
    "    \n",
    "    return pd.DataFrame(df[(df['approx_cost(for two people)']<400) & (df['rate']>4) & (df['location'] == location) & (df['rest_type'] == res_type)]['name'].unique())"
   ]
  },
  {
   "cell_type": "code",
   "execution_count": 114,
   "metadata": {
    "id": "p4r1A8htH3Nd"
   },
   "outputs": [],
   "source": [
    "def return_budget_restaurant(location, rest_type):\n",
    "    # Filter restaurants by location and restaurant type\n",
    "    filtered_df = df[(df['location'] == location) & (df['rest_type'] == rest_type)]\n",
    "    \n",
    "    # Filter further for budget restaurants (cost < 400 and rating > 4)\n",
    "    budget_restaurants = filtered_df[(df['approx_cost(for two people)'] < 400) & (df['rate'] > 4)]\n",
    "    \n",
    "    c=budget_restaurants['name'].tolist()\n",
    "    b=[]\n",
    "    for x in c:\n",
    "        if x not in b:\n",
    "            b.append(x)\n",
    "    return b\n",
    "\n",
    "    \n"
   ]
  },
  {
   "cell_type": "code",
   "execution_count": 115,
   "metadata": {
    "id": "zwayAvk_IlIX"
   },
   "outputs": [
    {
     "name": "stderr",
     "output_type": "stream",
     "text": [
      "C:\\Users\\DELL\\AppData\\Local\\Temp\\ipykernel_11728\\2028108155.py:6: UserWarning: Boolean Series key will be reindexed to match DataFrame index.\n",
      "  budget_restaurants = filtered_df[(df['approx_cost(for two people)'] < 400) & (df['rate'] > 4)]\n"
     ]
    },
    {
     "data": {
      "text/plain": [
       "['Asha Tiffins', 'The Mylapore Cafe']"
      ]
     },
     "execution_count": 115,
     "metadata": {},
     "output_type": "execute_result"
    }
   ],
   "source": [
    "return_budget_restaurant('HSR',\"Quick Bites\")"
   ]
  },
  {
   "cell_type": "code",
   "execution_count": 116,
   "metadata": {
    "colab": {
     "base_uri": "https://localhost:8080/"
    },
    "id": "jVNDPLzbI-zi",
    "outputId": "ad3b5882-0cac-4811-b81d-8f96cc031f60"
   },
   "outputs": [
    {
     "data": {
      "text/html": [
       "<div>\n",
       "<style scoped>\n",
       "    .dataframe tbody tr th:only-of-type {\n",
       "        vertical-align: middle;\n",
       "    }\n",
       "\n",
       "    .dataframe tbody tr th {\n",
       "        vertical-align: top;\n",
       "    }\n",
       "\n",
       "    .dataframe thead th {\n",
       "        text-align: right;\n",
       "    }\n",
       "</style>\n",
       "<table border=\"1\" class=\"dataframe\">\n",
       "  <thead>\n",
       "    <tr style=\"text-align: right;\">\n",
       "      <th></th>\n",
       "      <th>0</th>\n",
       "    </tr>\n",
       "  </thead>\n",
       "  <tbody>\n",
       "    <tr>\n",
       "      <th>0</th>\n",
       "      <td>Asha Tiffins</td>\n",
       "    </tr>\n",
       "    <tr>\n",
       "      <th>1</th>\n",
       "      <td>The Mylapore Cafe</td>\n",
       "    </tr>\n",
       "  </tbody>\n",
       "</table>\n",
       "</div>"
      ],
      "text/plain": [
       "                   0\n",
       "0       Asha Tiffins\n",
       "1  The Mylapore Cafe"
      ]
     },
     "execution_count": 116,
     "metadata": {},
     "output_type": "execute_result"
    }
   ],
   "source": [
    "bud('HSR',\"Quick Bites\")"
   ]
  },
  {
   "cell_type": "markdown",
   "metadata": {
    "id": "PKK0q6kkJZKM"
   },
   "source": [
    "### 13.Which are the most common cuisines in each locations."
   ]
  },
  {
   "cell_type": "code",
   "execution_count": 117,
   "metadata": {
    "id": "bzSImHvZJNL6"
   },
   "outputs": [
    {
     "name": "stdout",
     "output_type": "stream",
     "text": [
      "               location                                           cuisines  \\\n",
      "0                   BTM                                       North Indian   \n",
      "261        Banashankari                             Cafe, Mexican, Italian   \n",
      "335           Banaswadi                              North Indian, Chinese   \n",
      "405   Bannerghatta Road                              North Indian, Chinese   \n",
      "539        Basavanagudi                                       South Indian   \n",
      "...                 ...                                                ...   \n",
      "4086     West Bangalore  Healthy Food, Chinese, Biryani, North Indian, ...   \n",
      "4087         Whitefield                                       North Indian   \n",
      "4257      Wilson Garden                                       North Indian   \n",
      "4281          Yelahanka                              South Indian, Biryani   \n",
      "4282        Yeshwantpur                South Indian, North Indian, Chinese   \n",
      "\n",
      "      count  \n",
      "0        69  \n",
      "261      11  \n",
      "335       8  \n",
      "405      29  \n",
      "539      10  \n",
      "...     ...  \n",
      "4086      1  \n",
      "4087     38  \n",
      "4257      9  \n",
      "4281      1  \n",
      "4282      3  \n",
      "\n",
      "[89 rows x 3 columns]\n"
     ]
    }
   ],
   "source": [
    "# Group by location and cuisine, then count occurrences\n",
    "cuisine_counts = df.groupby('location')['cuisines'].value_counts().reset_index(name='count')\n",
    "\n",
    "# Find the most common cuisine in each location\n",
    "most_common_cuisines = cuisine_counts.loc[cuisine_counts.groupby('location')['count'].idxmax()]\n",
    "\n",
    "print(most_common_cuisines)"
   ]
  },
  {
   "cell_type": "markdown",
   "metadata": {
    "id": "R8Ti0rMCKtSk"
   },
   "source": [
    "### 14. Which is  the most popular cuisine of Bangalore?"
   ]
  },
  {
   "cell_type": "code",
   "execution_count": 118,
   "metadata": {
    "colab": {
     "base_uri": "https://localhost:8080/",
     "height": 569
    },
    "id": "uSVDqlW7Kscx",
    "outputId": "89593dc9-0c69-4eb6-f551-4a8525df39d7"
   },
   "outputs": [
    {
     "name": "stdout",
     "output_type": "stream",
     "text": [
      "North Indian\n"
     ]
    }
   ],
   "source": [
    "cuisines_counts = df['cuisines'].value_counts()\n",
    "\n",
    "# Find the most popular cuisine\n",
    "most_popular_cuisine = cuisines_counts.idxmax()\n",
    "\n",
    "print(most_popular_cuisine)"
   ]
  }
 ],
 "metadata": {
  "colab": {
   "collapsed_sections": [],
   "name": "Zomato_EDA_sentimental_analysis.ipynb",
   "provenance": []
  },
  "kernelspec": {
   "display_name": "Python 3 (ipykernel)",
   "language": "python",
   "name": "python3"
  },
  "language_info": {
   "codemirror_mode": {
    "name": "ipython",
    "version": 3
   },
   "file_extension": ".py",
   "mimetype": "text/x-python",
   "name": "python",
   "nbconvert_exporter": "python",
   "pygments_lexer": "ipython3",
   "version": "3.11.7"
  }
 },
 "nbformat": 4,
 "nbformat_minor": 4
}
